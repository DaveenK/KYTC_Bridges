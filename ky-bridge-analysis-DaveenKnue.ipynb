{
 "cells": [
  {
   "cell_type": "code",
   "execution_count": 5,
   "metadata": {},
   "outputs": [],
   "source": [
    "import os\n",
    "import pandas as pd\n",
    "import math as m\n",
    "import matplotlib as plt"
   ]
  },
  {
   "cell_type": "code",
   "execution_count": 30,
   "metadata": {},
   "outputs": [],
   "source": [
    "# clarify path to csv\n",
    "csv_file_path = r'C:\\Users\\Nick\\Documents\\Daveen\\Code_Kentucky\\ky-bridge-analysis-DaveenKnue\\Ky_Bridge_Points.csv'\n",
    "\n",
    "#specify dtype str to col 62 and 64\n",
    "dtype_options = {'SERVTYPON': str, 'SERVTYPUND': str}\n",
    "\n",
    "# read csv into a dataframe with specified dtypes\n",
    "df = pd.read_csv(csv_file_path, dtype=dtype_options)"
   ]
  },
  {
   "cell_type": "code",
   "execution_count": 43,
   "metadata": {},
   "outputs": [
    {
     "name": "stdout",
     "output_type": "stream",
     "text": [
      "[ 1  2  3  6  9  5  7 12 10  4  8 11]\n",
      "All Kentucky Districts:\n",
      "['Paducah' 'Madisonville' 'Bowling Green' 'Covington' 'Flemingsburg'\n",
      " 'Louisville' 'Lexington' 'Pikeville' 'Jackson' 'Elizabethtown' 'Somerset'\n",
      " 'Manchester']\n"
     ]
    }
   ],
   "source": [
    "#view all districts\n",
    "ky_districts = df['D_DISTRICT'].unique()\n",
    "#test = df[\"DISTRICT\"].unique()\n",
    "#print(test)\n",
    "\n",
    "print(\"All Kentucky Districts:\")\n",
    "print(ky_districts)"
   ]
  },
  {
   "cell_type": "code",
   "execution_count": 61,
   "metadata": {},
   "outputs": [
    {
     "name": "stdout",
     "output_type": "stream",
     "text": [
      "D1 Bridge Count: 2074\n",
      "D2 Bridge Count: 2466\n",
      "D3 Bridge Count: 1109\n",
      "D4 Bridge Count: 1350\n",
      "D5 Bridge Count: 2293\n",
      "D6 Bridge Count: 1428\n",
      "D7 Bridge Count: 1722\n",
      "D8 Bridge Count: 1155\n",
      "D9 Bridge Count: 1317\n",
      "D10 Bridge Count: 1057\n",
      "D11 Bridge Count: 1367\n",
      "D12 Bridge Count: 1281\n"
     ]
    }
   ],
   "source": [
    "#Count Bridges per District (D)\n",
    "#this is tedious and slow -- should be using for stmt to count all at once\n",
    "\n",
    "paducah_bridge_count = (df['D_DISTRICT'] == \"Paducah\").sum()\n",
    "print(\"D1 Bridge Count:\", paducah_bridge_count)\n",
    "\n",
    "madisonville_bridge_count = (df['D_DISTRICT'] == \"Madisonville\").sum()\n",
    "print(\"D2 Bridge Count:\", madisonville_bridge_count)\n",
    "\n",
    "bowlinggreen_bridge_count = (df['D_DISTRICT'] == \"Bowling Green\").sum()\n",
    "print(\"D3 Bridge Count:\", bowlinggreen_bridge_count)\n",
    "\n",
    "elizabethtown_bridge_count = (df['D_DISTRICT'] == \"Elizabethtown\").sum()\n",
    "print(\"D4 Bridge Count:\", elizabethtown_bridge_count)\n",
    "\n",
    "louisville_bridge_count = (df['D_DISTRICT'] == \"Louisville\").sum()\n",
    "print(\"D5 Bridge Count:\", louisville_bridge_count)\n",
    "\n",
    "covington_bridge_count = (df['D_DISTRICT'] == \"Covington\").sum()\n",
    "print(\"D6 Bridge Count:\", covington_bridge_count)\n",
    "\n",
    "lexington_bridge_count = (df['D_DISTRICT'] == \"Lexington\").sum()\n",
    "print(\"D7 Bridge Count:\", lexington_bridge_count)\n",
    "\n",
    "somerset_bridge_count = (df['D_DISTRICT'] == \"Somerset\").sum()\n",
    "print(\"D8 Bridge Count:\", somerset_bridge_count)\n",
    "\n",
    "flemingsburg_bridge_count = (df['D_DISTRICT'] == \"Flemingsburg\").sum()\n",
    "print(\"D9 Bridge Count:\", flemingsburg_bridge_count)\n",
    "\n",
    "jackson_bridge_count = (df['D_DISTRICT'] == \"Jackson\").sum()\n",
    "print(\"D10 Bridge Count:\", jackson_bridge_count)\n",
    "\n",
    "manchester_bridge_count = (df['D_DISTRICT'] == \"Manchester\").sum()\n",
    "print(\"D11 Bridge Count:\",manchester_bridge_count)\n",
    "\n",
    "pikeville_bridge_count = (df['D_DISTRICT'] == \"Pikeville\").sum()\n",
    "print(\"D12 Bridge Count:\", pikeville_bridge_count)\n",
    "\n",
    "\n"
   ]
  },
  {
   "cell_type": "code",
   "execution_count": 65,
   "metadata": {},
   "outputs": [
    {
     "name": "stdout",
     "output_type": "stream",
     "text": [
      "D2 Bridge Count: 2466\n",
      "D5 Bridge Count: 2293\n",
      "D1 Bridge Count: 2074\n",
      "D7 Bridge Count: 1722\n",
      "D6 Bridge Count: 1428\n",
      "D11 Bridge Count: 1367\n",
      "D4 Bridge Count: 1350\n",
      "D9 Bridge Count: 1317\n",
      "D12 Bridge Count: 1281\n",
      "D8 Bridge Count: 1155\n",
      "D3 Bridge Count: 1109\n",
      "D10 Bridge Count: 1057\n"
     ]
    }
   ],
   "source": [
    "#Count Bridges per District (D)\n",
    "district_bridge_counts = df['DISTRICT'].value_counts()\n",
    "\n",
    "# Print bridge counts for each district\n",
    "for district, count in district_bridge_counts.items():\n",
    "    print(f\"D{district} Bridge Count: {count}\")"
   ]
  },
  {
   "cell_type": "code",
   "execution_count": 16,
   "metadata": {},
   "outputs": [
    {
     "name": "stdout",
     "output_type": "stream",
     "text": [
      "Index(['X', 'Y', 'OBJECTID', 'RT_UNIQUE', 'MIDPOINT_MP', 'LEADING_MP',\n",
      "       'TRAILING_MP', 'D_MIDPOINT_MP', 'D_LEADING_MP', 'D_TRAILING_MP',\n",
      "       'GOV_LEVEL', 'D_GOV_LEVEL', 'RT_DESCR', 'DISTRICT', 'D_DISTRICT',\n",
      "       'CNTY_NAME', 'COUNTY', 'RT_PREFIX', 'D_RT_PREFIX', 'RT_NUMBER',\n",
      "       'RT_SUFFIX', 'D_RT_SUFFIX', 'RT_SECTION', 'D_RT_SECTION', 'DATUM_ID',\n",
      "       'DATUM_OFFSET', 'START_DATE', 'MODIFY_DT', 'EXTRACT_DT', 'ON_UNDER',\n",
      "       'D_ON_UNDER', 'PERCENT_LOCATED', 'BRIDGE_ID', 'FEATINT', 'BYPASSLEN',\n",
      "       'NBI_RATING', 'LENGTH', 'MAXSPAN', 'OWNER', 'D_OWNER', 'CUSTODIAN',\n",
      "       'D_CUSTODIAN', 'LMVCDEC', 'OVMVCDEC', 'HCLRINV', 'AROADWIDTH',\n",
      "       'ROADWIDTH', 'LANES', 'RTCURBSW', 'LFTCURBSW', 'OPPOSTCL', 'D_OPPOSTCL',\n",
      "       'SCOURCRIT', 'D_SCOURCRIT', 'YEARBUILT', 'HISTSIGN', 'D_HISTSIGN',\n",
      "       'DKRATING', 'SUPRATING', 'SUBRATING', 'CULVRATING', 'D_CULVRATING',\n",
      "       'SERVTYPON', 'D_SERVTYPON', 'SERVTYPUND', 'D_SERVTYPUND', 'MAINSPANS',\n",
      "       'APPSPANS', 'NAVCNTROL', 'D_NAVCNTROL', 'NAVVC', 'NAVHC', 'LATDDGIS',\n",
      "       'LONDDGIS', 'LOCATION', 'BRLOC_LOCAL', 'BRDESC2', 'YEARRECON',\n",
      "       'ADMINAREA', 'D_ADMINAREA', 'INSCMONTH', 'INSCYEAR', 'SKEW',\n",
      "       'FACILITY_7', 'DECKWIDTH', 'VCLRUNDER'],\n",
      "      dtype='object')\n",
      "Name of column 62: SERVTYPON\n",
      "Name of column 64: SERVTYPUND\n"
     ]
    }
   ],
   "source": [
    "# view all col names\n",
    "# print(df.columns)\n",
    "\n",
    "#isolate col 62 and 64\n",
    "# column62_name = df.columns[62]\n",
    "# column64_name = df.columns[64]\n",
    "# print(\"Name of column 62:\", column62_name)\n",
    "# print(\"Name of column 64:\", column64_name)"
   ]
  },
  {
   "cell_type": "code",
   "execution_count": 23,
   "metadata": {},
   "outputs": [],
   "source": [
    "# view first 5 rows of col 62 and 64 to assess dtypes\n",
    "# print(df['SERVTYPON'].head())\n",
    "# print(df['SERVTYPUND'].head())\n",
    "\n",
    "# head only shows int. viewing more rows to find other dtypes\n",
    "#print(df.iloc[:, 62].head(100))\n",
    "#print(df.iloc[:, 64].head(100))\n",
    "\n",
    "#only int dtype found\n",
    "#assign dtype int to col 62 and 64\n",
    "#dtype_options = {'62': 'int', '64': 'int'}\n"
   ]
  }
 ],
 "metadata": {
  "kernelspec": {
   "display_name": "Python 3",
   "language": "python",
   "name": "python3"
  },
  "language_info": {
   "codemirror_mode": {
    "name": "ipython",
    "version": 3
   },
   "file_extension": ".py",
   "mimetype": "text/x-python",
   "name": "python",
   "nbconvert_exporter": "python",
   "pygments_lexer": "ipython3",
   "version": "3.11.5"
  }
 },
 "nbformat": 4,
 "nbformat_minor": 2
}
